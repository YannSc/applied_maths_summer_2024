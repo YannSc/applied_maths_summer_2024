{
 "cells": [
  {
   "metadata": {},
   "cell_type": "markdown",
   "source": [
    "# Équations de prédation de Lotka-Volterra\n",
    "Ref : https://fr.wikipedia.org/wiki/%C3%89quations_de_pr%C3%A9dation_de_Lotka-Volterra \n",
    "\n",
    "On considère un système de deux espèces animales, l'une proie, l'autre prédatrice. On note $x(t)$ le nombre de proies et $y(t)$ le nombre de prédateurs à l'instant $t$. Les équations de Lotka-Volterra sont les suivantes :\n",
    "\n",
    "$$\n",
    "\\begin{cases}\n",
    "\\frac{dx}{dt} = \\alpha x - \\beta x y \\\\\n",
    "\\frac{dy}{dt} = \\delta x y - \\gamma y\n",
    "\\end{cases}\n",
    "\n",
    "$$\n",
    "\n",
    "où $\\alpha$, $\\beta$, $\\gamma$ et $\\delta$ sont des constantes positives.\n",
    "\n",
    "On peut interpréter ces équations de la manière suivante :\n",
    "- la proie se reproduit à un taux proportionnel à sa population, et est mangée par les prédateurs à un taux proportionnel à la population de proies et de prédateurs ;\n",
    "- les prédateurs se reproduisent à un taux proportionnel au nombre de proies mangées, et meurent à un taux proportionnel à leur population.\n"
   ],
   "id": "7e21c661423fd7d9"
  },
  {
   "metadata": {},
   "cell_type": "code",
   "outputs": [],
   "execution_count": null,
   "source": "",
   "id": "a464eb9bd7ac7601"
  }
 ],
 "metadata": {
  "kernelspec": {
   "display_name": "Python 3",
   "language": "python",
   "name": "python3"
  },
  "language_info": {
   "codemirror_mode": {
    "name": "ipython",
    "version": 2
   },
   "file_extension": ".py",
   "mimetype": "text/x-python",
   "name": "python",
   "nbconvert_exporter": "python",
   "pygments_lexer": "ipython2",
   "version": "2.7.6"
  }
 },
 "nbformat": 4,
 "nbformat_minor": 5
}
